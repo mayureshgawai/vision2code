{
 "cells": [
  {
   "cell_type": "code",
   "execution_count": 1,
   "id": "0301c829",
   "metadata": {},
   "outputs": [
    {
     "name": "stderr",
     "output_type": "stream",
     "text": [
      "C:\\Users\\ASUS\\AppData\\Roaming\\Python\\Python39\\site-packages\\tqdm\\auto.py:22: TqdmWarning: IProgress not found. Please update jupyter and ipywidgets. See https://ipywidgets.readthedocs.io/en/stable/user_install.html\n",
      "  from .autonotebook import tqdm as notebook_tqdm\n"
     ]
    }
   ],
   "source": [
    "import cv2\n",
    "import detectron2\n",
    "from detectron2.engine import DefaultPredictor\n",
    "from detectron2.config import get_cfg\n",
    "from detectron2.data import MetadataCatalog, DatasetCatalog\n",
    "import matplotlib.pyplot as plt\n",
    "import os, json, random\n",
    "from detectron2.utils.visualizer import Visualizer"
   ]
  },
  {
   "cell_type": "code",
   "execution_count": 2,
   "id": "3f66edae",
   "metadata": {},
   "outputs": [],
   "source": [
    "\n",
    "\n",
    "from detectron2.data.datasets import register_coco_instances\n",
    "register_coco_instances(\"sketches_train\", {}, \"data/train/_annotations.coco.json\", \"data/train\")\n",
    "\n",
    "register_coco_instances(\"sketches_test\", {}, \"data/test/_annotations.coco.json\", \"data/test\")\n",
    "\n",
    "train_metadata = MetadataCatalog.get(\"sketches_train\")\n",
    "train_dataset_dicts = DatasetCatalog.get(\"sketches_train\")\n",
    "\n",
    "test_metadata = MetadataCatalog.get(\"sketches_test\")\n",
    "test_dataset_dicts = DatasetCatalog.get(\"sketches_test\")\n"
   ]
  },
  {
   "cell_type": "code",
   "execution_count": 3,
   "id": "4c2897a3",
   "metadata": {},
   "outputs": [],
   "source": [
    "from detectron2 import model_zoo\n",
    "\n",
    "cfg = get_cfg()\n",
    "cfg.merge_from_file(model_zoo.get_config_file(\"COCO-Detection/faster_rcnn_R_50_FPN_3x.yaml\"))\n",
    "\n",
    "cfg.MODEL.ROI_HEADS.NUM_CLASSES = 12\n",
    "cfg.MODEL.ROI_HEADS.SCORE_THRESH_TEST = 0.5\n",
    "cfg.MODEL.WEIGHTS = os.path.join(\"output\", \"model_final.pth\")\n",
    "predictor = DefaultPredictor(cfg)"
   ]
  },
  {
   "cell_type": "code",
   "execution_count": 4,
   "id": "0f091e49",
   "metadata": {},
   "outputs": [],
   "source": [
    "# from detectron2.evaluation import COCOEvaluator, inference_on_dataset\n",
    "# from detectron2.data import build_detection_test_loader\n",
    "\n",
    "# evaluator = COCOEvaluator(\"sketches_test\", output_dir=\"./output\")\n",
    "# val_loader = build_detection_test_loader(cfg, \"sketches_test\")\n",
    "\n",
    "# print(inference_on_dataset(predictor.model, val_loader, evaluator))"
   ]
  },
  {
   "cell_type": "code",
   "execution_count": 5,
   "id": "57515788",
   "metadata": {
    "scrolled": false
   },
   "outputs": [
    {
     "ename": "error",
     "evalue": "OpenCV(4.6.0) D:\\a\\opencv-python\\opencv-python\\opencv\\modules\\imgproc\\src\\resize.cpp:4052: error: (-215:Assertion failed) !ssize.empty() in function 'cv::resize'\n",
     "output_type": "error",
     "traceback": [
      "\u001b[1;31m---------------------------------------------------------------------------\u001b[0m",
      "\u001b[1;31merror\u001b[0m                                     Traceback (most recent call last)",
      "Input \u001b[1;32mIn [5]\u001b[0m, in \u001b[0;36m<cell line: 6>\u001b[1;34m()\u001b[0m\n\u001b[0;32m      2\u001b[0m \u001b[38;5;28;01mimport\u001b[39;00m \u001b[38;5;21;01mnumpy\u001b[39;00m \u001b[38;5;28;01mas\u001b[39;00m \u001b[38;5;21;01mnp\u001b[39;00m\n\u001b[0;32m      4\u001b[0m image \u001b[38;5;241m=\u001b[39m cv2\u001b[38;5;241m.\u001b[39mimread(\u001b[38;5;124m\"\u001b[39m\u001b[38;5;124mtest_imges/6.png\u001b[39m\u001b[38;5;124m\"\u001b[39m)\n\u001b[1;32m----> 6\u001b[0m img \u001b[38;5;241m=\u001b[39m \u001b[43mcv2\u001b[49m\u001b[38;5;241;43m.\u001b[39;49m\u001b[43mresize\u001b[49m\u001b[43m(\u001b[49m\u001b[43mimage\u001b[49m\u001b[43m,\u001b[49m\u001b[43m \u001b[49m\u001b[43m(\u001b[49m\u001b[38;5;241;43m480\u001b[39;49m\u001b[43m,\u001b[49m\u001b[43m \u001b[49m\u001b[38;5;241;43m480\u001b[39;49m\u001b[43m)\u001b[49m\u001b[43m)\u001b[49m\n\u001b[0;32m      7\u001b[0m img \u001b[38;5;241m=\u001b[39m cv2\u001b[38;5;241m.\u001b[39mcvtColor(img, cv2\u001b[38;5;241m.\u001b[39mCOLOR_BGR2RGB)\n\u001b[0;32m      9\u001b[0m output \u001b[38;5;241m=\u001b[39m predictor(img)\n",
      "\u001b[1;31merror\u001b[0m: OpenCV(4.6.0) D:\\a\\opencv-python\\opencv-python\\opencv\\modules\\imgproc\\src\\resize.cpp:4052: error: (-215:Assertion failed) !ssize.empty() in function 'cv::resize'\n"
     ]
    }
   ],
   "source": [
    "from detectron2.utils.visualizer import ColorMode\n",
    "import numpy as np\n",
    "\n",
    "image = cv2.imread(\"test_imges/6.png\")\n",
    "\n",
    "img = cv2.resize(image, (480, 480))\n",
    "img = cv2.cvtColor(img, cv2.COLOR_BGR2RGB)\n",
    "\n",
    "output = predictor(img)\n",
    "v = Visualizer(img, test_metadata, scale=1.2, instance_mode=ColorMode.IMAGE_BW)\n",
    "\n",
    "out = v.draw_instance_predictions(output[\"instances\"].to(\"cpu\"))\n",
    "print(output[\"instances\"].pred_boxes)\n",
    "print(np.array(output[\"instances\"].pred_classes.to(\"cpu\"))+1)\n",
    "plt.figure(figsize=(20,20))\n",
    "plt.imshow(out.get_image())\n"
   ]
  },
  {
   "cell_type": "code",
   "execution_count": 8,
   "id": "d49804ae",
   "metadata": {},
   "outputs": [
    {
     "data": {
      "text/plain": [
       "<matplotlib.image.AxesImage at 0x21e576045e0>"
      ]
     },
     "execution_count": 8,
     "metadata": {},
     "output_type": "execute_result"
    },
    {
     "data": {
      "image/png": "[encoded data removed]",
      "text/plain": [
       "<Figure size 432x288 with 1 Axes>"
      ]
     },
     "metadata": {
      "needs_background": "light"
     },
     "output_type": "display_data"
    }
   ],
   "source": [
    "\n",
    "# [ 81.4583,  58.7387, 270.2391, 115.6710]\n",
    "\n",
    "# Basically it selects number of rows (58 to 115) and number of columns in that rows (81 to 270). S we can also put it like\n",
    "# top-left: X=81,Y=58 and bottom right: X=270,Y=115\n",
    "\n",
    "#  [265.9618, 229.7002, 348.7201, 257.8487]\n",
    "img1 = img[14:48, 378:457]\n",
    "# img1 = img[58:115, 81:270]  # In this, first 2 are Y axis and other 2 are X axis.\n",
    "\n",
    "# [ 70.5340, 393.1627, 268.1833, 461.1835]\n",
    "# img1 = img[393:461, 70:268]\n",
    "plt.imshow(img1)"
   ]
  },
  {
   "cell_type": "code",
   "execution_count": 97,
   "id": "1ea4cb25",
   "metadata": {},
   "outputs": [],
   "source": [
    "def randomId():\n",
    "    import random\n",
    "    return random.randint(10, 10000)\n",
    "\n",
    "# print(randomId())\n",
    "\n",
    "boxes = output[\"instances\"].pred_boxes\n",
    "\n",
    "def generate(element, box, idx):\n",
    "    \n",
    "    boxes = []\n",
    "    for b in box:\n",
    "        boxes.append(np.array(b.to(\"cpu\")))\n",
    "    \n",
    "    \n",
    "    element_dict = {\n",
    "\n",
    "        1: f'<div><button type=\"button\">Buttton</button></div>',\n",
    "        2: '<div><button type=\"button\">Buttton</button></div>',\n",
    "        3: '<div><input type=\"checkbox\" id=\"practical\" name=\"practical\" value=\"Checkbox\"></div>',\n",
    "        4: '<div><h1>Headings Here...</h1></div>',\n",
    "        5: f'<div><img src=\"\" alt=\"You can change alternate values\" width=\"{abs(int(boxes[idx][0] - boxes[idx][2]))}\" height=\"{abs(int(boxes[idx][1] - boxes[idx][3]))}\"></div>',\n",
    "        6: '<div><button type=\"button\">Buttton</button></div>',\n",
    "        7: '<div><button type=\"button\">Buttton</button></div>',\n",
    "        8: '<div><button type=\"button\">Buttton</button></div>',\n",
    "        9: '<div><p> Lorem ipsum dolor sit amet, consectetur adipiscing elit, sed do eiusmod tempor incididunt ut labore et dolore magna aliqua</p></div>',\n",
    "        10: '<div><button type=\"button\">Buttton</button></div>',\n",
    "        11: f'<div><select name=\"select_tag\" id=\"{randomId()}\"></select></div>',\n",
    "        12: '<div><button type=\"button\">Buttton</button></div>',\n",
    "        13: '<div><button type=\"button\">Buttton</button></div>',\n",
    "        14: '<div><button type=\"button\">Buttton</button></div>',\n",
    "\n",
    "    }\n",
    "    \n",
    "    return element_dict[element]"
   ]
  },
  {
   "cell_type": "code",
   "execution_count": 98,
   "id": "1977e56c",
   "metadata": {},
   "outputs": [
    {
     "name": "stdout",
     "output_type": "stream",
     "text": [
      "[tensor([179.1334, 394.9150, 261.3009, 453.7735])\n",
      " tensor([301.9133, 390.2298, 380.9284, 451.8928])\n",
      " tensor([ 66.2409, 398.8424, 136.4293, 452.5399])\n",
      " tensor([297.0311, 251.2657, 356.7442, 332.9830])\n",
      " tensor([ 63.6168, 245.8559, 123.6102, 333.0191])\n",
      " tensor([177.3376, 252.7899, 235.0001, 334.0047])]\n"
     ]
    },
    {
     "name": "stderr",
     "output_type": "stream",
     "text": [
      "C:\\Users\\ASUS\\AppData\\Local\\Temp\\ipykernel_18276\\2723650497.py:1: FutureWarning: The input object of type 'Tensor' is an array-like implementing one of the corresponding protocols (`__array__`, `__array_interface__` or `__array_struct__`); but not a sequence (or 0-D). In the future, this object will be coerced as if it was first converted using `np.array(obj)`. To retain the old behaviour, you have to either modify the type 'Tensor', or assign to an empty array created with `np.empty(correct_shape, dtype=object)`.\n",
      "  print(np.array(output[\"instances\"].pred_boxes.to(\"cpu\")))\n",
      "C:\\Users\\ASUS\\AppData\\Local\\Temp\\ipykernel_18276\\2723650497.py:1: VisibleDeprecationWarning: Creating an ndarray from ragged nested sequences (which is a list-or-tuple of lists-or-tuples-or ndarrays with different lengths or shapes) is deprecated. If you meant to do this, you must specify 'dtype=object' when creating the ndarray.\n",
      "  print(np.array(output[\"instances\"].pred_boxes.to(\"cpu\")))\n"
     ]
    }
   ],
   "source": [
    "print(np.array(output[\"instances\"].pred_boxes.to(\"cpu\")))"
   ]
  },
  {
   "cell_type": "code",
   "execution_count": 100,
   "id": "63fd2b2f",
   "metadata": {},
   "outputs": [
    {
     "name": "stdout",
     "output_type": "stream",
     "text": [
      "9\n",
      "<div><p> Lorem ipsum dolor sit amet, consectetur adipiscing elit, sed do eiusmod tempor incididunt ut labore et dolore magna aliqua</p></div>\n",
      "9\n",
      "<div><p> Lorem ipsum dolor sit amet, consectetur adipiscing elit, sed do eiusmod tempor incididunt ut labore et dolore magna aliqua</p></div>\n",
      "9\n",
      "<div><p> Lorem ipsum dolor sit amet, consectetur adipiscing elit, sed do eiusmod tempor incididunt ut labore et dolore magna aliqua</p></div>\n",
      "5\n",
      "<div><img src=\"\" alt=\"You can change alternate values\" width=\"59\" height=\"81\"></div>\n",
      "5\n",
      "<div><img src=\"\" alt=\"You can change alternate values\" width=\"59\" height=\"87\"></div>\n",
      "5\n",
      "<div><img src=\"\" alt=\"You can change alternate values\" width=\"57\" height=\"81\"></div>\n"
     ]
    }
   ],
   "source": [
    "classes =  np.array(output[\"instances\"].pred_classes.to(\"cpu\")) + 1\n",
    "\n",
    "idx = 0\n",
    "for clas in classes:\n",
    "    print(clas)\n",
    "    html_element = generate(clas, boxes, idx)\n",
    "    print(html_element)\n",
    "    with open(\"sample.html\", \"a\") as f:\n",
    "        f.write(html_element)\n",
    "    idx += 1"
   ]
  },
  {
   "cell_type": "code",
   "execution_count": null,
   "id": "1bbd5944",
   "metadata": {},
   "outputs": [],
   "source": []
  }
 ],
 "metadata": {
  "kernelspec": {
   "display_name": "Python 3 (ipykernel)",
   "language": "python",
   "name": "python3"
  },
  "language_info": {
   "codemirror_mode": {
    "name": "ipython",
    "version": 3
   },
   "file_extension": ".py",
   "mimetype": "text/x-python",
   "name": "python",
   "nbconvert_exporter": "python",
   "pygments_lexer": "ipython3",
   "version": "3.9.12"
  }
 },
 "nbformat": 4,
 "nbformat_minor": 5
}
